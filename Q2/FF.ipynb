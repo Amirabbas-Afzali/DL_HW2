{
 "cells": [
  {
   "cell_type": "markdown",
   "metadata": {},
   "source": [
    "# Forward Forward Network "
   ]
  },
  {
   "cell_type": "markdown",
   "metadata": {},
   "source": [
    "## Supervised"
   ]
  },
  {
   "cell_type": "code",
   "execution_count": 2,
   "metadata": {},
   "outputs": [],
   "source": [
    "import matplotlib.pyplot as plt\n",
    "import torch\n",
    "import torch.nn as nn\n",
    "import numpy as np\n",
    "from tqdm import tqdm\n",
    "from torch.optim import Adam\n",
    "from torchvision.datasets import MNIST\n",
    "from torchvision import transforms\n",
    "from torch.utils.data import DataLoader,Dataset"
   ]
  },
  {
   "cell_type": "markdown",
   "metadata": {},
   "source": [
    "### define `DataLoader` :"
   ]
  },
  {
   "cell_type": "code",
   "execution_count": 32,
   "metadata": {},
   "outputs": [],
   "source": [
    "batch_size = 128\n",
    "# define transformer for data preprocessing\n",
    "transformer = transforms.Compose([transforms.ToTensor(),\n",
    "                        transforms.Normalize((0.1307,), (0.3081,)),\n",
    "                        transforms.Lambda(lambda x: x.view(-1))])\n",
    "\n",
    "train_dataloader = DataLoader(MNIST('./data/',train=True,download=True,transform=transformer),\n",
    "                              batch_size=batch_size, shuffle=True)\n",
    "\n",
    "test_dataloader = DataLoader(MNIST('./data/',train=False,download=True,transform=transformer),\n",
    "                              batch_size=batch_size, shuffle=True)"
   ]
  },
  {
   "cell_type": "markdown",
   "metadata": {},
   "source": [
    "### data preparation \n",
    "\n",
    "replace first 10 pixels of images with one-hot encoded labels."
   ]
  },
  {
   "cell_type": "code",
   "execution_count": 33,
   "metadata": {},
   "outputs": [],
   "source": [
    "def change_label(data, label): \n",
    "        new_data = data.clone()\n",
    "        new_data[:, 0:10] = 0.0\n",
    "        new_data[range(new_data.shape[0]), torch.ones(new_data.shape[0],dtype=int)*label] = data.max()\n",
    "        return new_data\n",
    "\n",
    "def prepare_positive_data(data, targets):\n",
    "        new_data = data.clone()\n",
    "        new_data[:, 0:10] = 0.0\n",
    "        new_data[range(new_data.shape[0]), targets] = new_data.max()\n",
    "        return new_data\n",
    "\n",
    "def prepare_negetive_data(data, targets):\n",
    "        new_target = targets.clone()\n",
    "        # get random label for each data \n",
    "        for i in range(new_target.shape[0]):\n",
    "                indices = list(range(0,10))\n",
    "                new_target[i] = indices[np.random.randint(0,10)]\n",
    "                \n",
    "        new_data = data.clone()\n",
    "        new_data[:, 0:10] = 0.0\n",
    "        new_data[range(new_data.shape[0]), new_target] = new_data.max()\n",
    "        return new_data\n"
   ]
  },
  {
   "cell_type": "code",
   "execution_count": 34,
   "metadata": {},
   "outputs": [],
   "source": [
    "class Layer(nn.Linear):\n",
    "    def __init__(self, in_features: int, out_features: int, bias: bool = True,\n",
    "                 epochs = 200, treshold = 2,device=None, dtype=None) -> None:\n",
    "        super().__init__(in_features, out_features, bias, device, dtype)\n",
    "        self.epochs = epochs\n",
    "        self.treshold = treshold\n",
    "        self.relu = torch.nn.ReLU()\n",
    "        self.optimizer = Adam(self.parameters(),lr = 0.01)\n",
    "        \n",
    "    def forward(self,X):\n",
    "        X_normalized = X/ (X.norm(2, 1, keepdim=True) + 1e-5)\n",
    "        Z = torch.mm(X_normalized,self.weight.T + self.bias.unsqueeze(0)) # XW + b\n",
    "        return self.relu(Z)\n",
    "    \n",
    "    def goodness(self,y):\n",
    "        y_ = y.clone()\n",
    "        y_ = torch.square(y_).mean(1) - self.treshold\n",
    "        return y_ \n",
    "    \n",
    "    def train(self,X_pos, X_neg):\n",
    "        for _ in range(self.epochs):\n",
    "            X_pos_goodness = self.goodness(self.forward(X_pos))\n",
    "            X_neg_goodness = self.goodness(self.forward(X_neg))\n",
    "            \n",
    "            loss = torch.log(1 + torch.exp(torch.cat([-X_pos_goodness,X_neg_goodness]))).mean()\n",
    "            \n",
    "            self.optimizer.zero_grad()\n",
    "            loss.backward()\n",
    "            self.optimizer.step() \n",
    "        # print('Done!')\n",
    "        return self.forward(X_pos).detach(), self.forward(X_neg).detach()"
   ]
  },
  {
   "cell_type": "code",
   "execution_count": 35,
   "metadata": {},
   "outputs": [],
   "source": [
    "class Supeviesed_FF_Network(nn.Module):\n",
    "    def __init__(self,num_layer, layer_dim) -> None:\n",
    "        super().__init__()\n",
    "        self.layers = []\n",
    "        for i in range(num_layer-1):\n",
    "            self.layers.append(Layer(layer_dim[i],layer_dim[i + 1]))\n",
    "            \n",
    "    def predict(self, x):\n",
    "        goodness_per_label = [] \n",
    "        \n",
    "        for label in range(10):\n",
    "            h = change_label(x, label)\n",
    "            goodness = [] \n",
    "            for layer in self.layers:\n",
    "                h = layer.forward(h)\n",
    "                goodness.append(torch.square(h).mean(1))\n",
    "            goodness_per_label.append(sum(goodness).unsqueeze(1))\n",
    "            \n",
    "        goodness_per_label = torch.cat(goodness_per_label, 1)\n",
    "        return goodness_per_label.argmax(1)\n",
    "\n",
    "    def train(self, X_pos, X_neg):\n",
    "        pos_orientation = X_pos\n",
    "        neg_orientation = X_neg\n",
    "        for  layer in self.layers:\n",
    "            pos_orientation, neg_orientation = layer.train(pos_orientation, neg_orientation)"
   ]
  },
  {
   "cell_type": "markdown",
   "metadata": {},
   "source": [
    "### train network"
   ]
  },
  {
   "cell_type": "code",
   "execution_count": 37,
   "metadata": {},
   "outputs": [
    {
     "name": "stderr",
     "output_type": "stream",
     "text": [
      "100%|██████████| 469/469 [07:01<00:00,  1.11it/s]\n"
     ]
    }
   ],
   "source": [
    "FF_net = Supeviesed_FF_Network(3,[784, 500, 400])\n",
    "\n",
    "for (data, targets) in tqdm(train_dataloader):\n",
    "    x_pos = prepare_positive_data(data, targets)\n",
    "    x_neg = prepare_negetive_data(data, targets)\n",
    "    FF_net.train(x_pos, x_neg)\n"
   ]
  },
  {
   "cell_type": "markdown",
   "metadata": {},
   "source": [
    "### train accurracy"
   ]
  },
  {
   "cell_type": "code",
   "execution_count": 38,
   "metadata": {},
   "outputs": [
    {
     "name": "stderr",
     "output_type": "stream",
     "text": [
      "100%|██████████| 469/469 [00:13<00:00, 33.85it/s]"
     ]
    },
    {
     "name": "stdout",
     "output_type": "stream",
     "text": [
      "train accuracy:  93.9454513190906\n"
     ]
    },
    {
     "name": "stderr",
     "output_type": "stream",
     "text": [
      "\n"
     ]
    }
   ],
   "source": [
    "train_acc = 0\n",
    "for (data, targets) in tqdm(train_dataloader):\n",
    "    train_acc += FF_net.predict(data).eq(targets).float().mean().item()\n",
    "    \n",
    "\n",
    "print('train accuracy: ',(train_acc/len(train_dataloader))*100)"
   ]
  },
  {
   "cell_type": "markdown",
   "metadata": {},
   "source": [
    "### test accurracy"
   ]
  },
  {
   "cell_type": "code",
   "execution_count": 39,
   "metadata": {},
   "outputs": [
    {
     "name": "stderr",
     "output_type": "stream",
     "text": [
      "100%|██████████| 79/79 [00:02<00:00, 34.28it/s]"
     ]
    },
    {
     "name": "stdout",
     "output_type": "stream",
     "text": [
      "test accuracy:  93.82911392405063\n"
     ]
    },
    {
     "name": "stderr",
     "output_type": "stream",
     "text": [
      "\n"
     ]
    }
   ],
   "source": [
    "test_acc = 0\n",
    "for (data, targets) in tqdm(test_dataloader):\n",
    "    test_acc += FF_net.predict(data).eq(targets).float().mean().item()\n",
    "    \n",
    "\n",
    "print('test accuracy: ',(test_acc/len(test_dataloader))*100)"
   ]
  },
  {
   "cell_type": "markdown",
   "metadata": {},
   "source": [
    "---\n",
    "---\n",
    "# Unsupervised"
   ]
  },
  {
   "cell_type": "markdown",
   "metadata": {},
   "source": [
    "### define `DataLoader` :"
   ]
  },
  {
   "cell_type": "code",
   "execution_count": 127,
   "metadata": {},
   "outputs": [],
   "source": [
    "batch_size = 128\n",
    "# define transformer for data preprocessing\n",
    "transformer = transforms.Compose([transforms.ToTensor(),\n",
    "                        transforms.Normalize((0.1307,), (0.3081,)),\n",
    "                        transforms.Lambda(lambda x: x.view(-1))])\n",
    "\n",
    "train_dataloader = DataLoader(MNIST('./data/',train=True,download=True,transform=transformer),\n",
    "                              batch_size=batch_size, shuffle=True)\n",
    "\n",
    "test_dataloader = DataLoader(MNIST('./data/',train=False,download=True,transform=transformer),\n",
    "                              batch_size=batch_size, shuffle=True)"
   ]
  },
  {
   "cell_type": "markdown",
   "metadata": {},
   "source": [
    "### define mask"
   ]
  },
  {
   "cell_type": "code",
   "execution_count": 154,
   "metadata": {},
   "outputs": [],
   "source": [
    "import numpy as np\n",
    "import cv2\n",
    "\n",
    "def create_mask(image_size):\n",
    "    mask = np.random.randint(0, 2, image_size).astype(np.float32)\n",
    "    for _ in range(5):\n",
    "        mask = cv2.filter2D(mask, -1, np.array([[1/4, 1/2, 1/4]]))\n",
    "        mask = cv2.filter2D(mask, -1, np.array([[1/4], [1/2], [1/4]]))\n",
    "    mask[mask> 0.5] = 1\n",
    "    mask[mask <= 0.5] = 0\n",
    "    return torch.tensor(mask), torch.tensor(1-mask)\n",
    "\n",
    "image_size = (28, 28)\n",
    "mask1,mask2 = create_mask(image_size)\n"
   ]
  },
  {
   "cell_type": "code",
   "execution_count": 155,
   "metadata": {},
   "outputs": [
    {
     "data": {
      "image/png": "[encoded data removed]",
      "text/plain": [
       "<Figure size 1000x1000 with 2 Axes>"
      ]
     },
     "metadata": {},
     "output_type": "display_data"
    }
   ],
   "source": [
    "fig, ax = plt.subplots(nrows=1, ncols=2,figsize=(10,10))\n",
    "\n",
    "ax[0].imshow(mask1,cmap='gray');\n",
    "ax[1].imshow(mask2,cmap='gray');"
   ]
  },
  {
   "cell_type": "code",
   "execution_count": 156,
   "metadata": {},
   "outputs": [
    {
     "data": {
      "image/png": "[encoded data removed]",
      "text/plain": [
       "<Figure size 640x480 with 1 Axes>"
      ]
     },
     "metadata": {},
     "output_type": "display_data"
    }
   ],
   "source": [
    "for data, targets in train_dataloader:\n",
    "    img = data[0].view(28,28)\n",
    "    break\n",
    "\n",
    "plt.imshow(img,cmap='gray');\n",
    "plt.title('org. image');"
   ]
  },
  {
   "cell_type": "code",
   "execution_count": 157,
   "metadata": {},
   "outputs": [
    {
     "data": {
      "image/png": "[encoded data removed]",
      "text/plain": [
       "<Figure size 640x480 with 1 Axes>"
      ]
     },
     "metadata": {},
     "output_type": "display_data"
    }
   ],
   "source": [
    "a = img*mask1\n",
    "a[a<0.0001] = 0.0\n",
    "plt.imshow(a,cmap='gray');\n",
    "plt.title('masked image');"
   ]
  },
  {
   "cell_type": "markdown",
   "metadata": {},
   "source": [
    "### data preparation "
   ]
  },
  {
   "cell_type": "code",
   "execution_count": 158,
   "metadata": {},
   "outputs": [],
   "source": [
    "\n",
    "def prepare_negative_data(data):\n",
    "        new_data = data.clone() \n",
    "\n",
    "        # Define the permutation index\n",
    "        indices = np.arange(new_data.shape[0])\n",
    "        np.random.shuffle(indices)\n",
    "        perm = torch.tensor(indices)\n",
    "\n",
    "        # Permute the rows\n",
    "        permuted_tensor = torch.index_select(new_data, 0, perm)\n",
    "        \n",
    "        image_size = (28, 28)\n",
    "        hybrid_data = torch.zeros(new_data.shape)\n",
    "        \n",
    "        for row in range(new_data.shape[0]):\n",
    "                mask1,mask2 = create_mask(image_size)\n",
    "                hybrid_data_ = mask1* new_data[row].view(28,28) + mask2*permuted_tensor[row].view(28,28)\n",
    "                hybrid_data[row] = hybrid_data_.view(-1)\n",
    "\n",
    "        return hybrid_data"
   ]
  },
  {
   "cell_type": "code",
   "execution_count": 159,
   "metadata": {},
   "outputs": [],
   "source": [
    "class Layer_unsupervised(nn.Linear):\n",
    "    def __init__(self, in_features: int, out_features: int, bias: bool = True,\n",
    "                 epochs = 2, treshold = 2,device=None, dtype=None) -> None:\n",
    "        super().__init__(in_features, out_features, bias, device, dtype)\n",
    "        self.epochs = epochs\n",
    "        self.treshold = treshold\n",
    "        self.relu = torch.nn.ReLU()\n",
    "        self.optimizer = Adam(self.parameters(),lr = 0.01)\n",
    "        \n",
    "    def forward(self,X):\n",
    "        X_normalized = X/ (X.norm(2, 1, keepdim=True) + 1e-5)\n",
    "        Z = torch.mm(X_normalized,self.weight.T + self.bias.unsqueeze(0)) # XW + b\n",
    "        return self.relu(Z)\n",
    "    \n",
    "    def goodness(self,y):\n",
    "        y_ = y.clone()\n",
    "        y_ = torch.square(y_).mean(1) - self.treshold\n",
    "        return y_ \n",
    "    \n",
    "    def train(self,X_pos, X_neg):\n",
    "        for _ in range(self.epochs):\n",
    "            X_pos_goodness = self.goodness(self.forward(X_pos))\n",
    "            X_neg_goodness = self.goodness(self.forward(X_neg))\n",
    "            \n",
    "            loss = torch.log(1 + torch.exp(torch.cat([-X_pos_goodness,X_neg_goodness]))).mean()\n",
    "            \n",
    "            self.optimizer.zero_grad()\n",
    "            loss.backward()\n",
    "            self.optimizer.step() \n",
    "        \n",
    "        return self.forward(X_pos).detach(), self.forward(X_neg).detach()"
   ]
  },
  {
   "cell_type": "code",
   "execution_count": 160,
   "metadata": {},
   "outputs": [],
   "source": [
    "class Unsupeviesed_FF_Network(nn.Module):\n",
    "    def __init__(self,num_layer, layer_dim) -> None:\n",
    "        super().__init__()\n",
    "        self.layers = []\n",
    "        for i in range(num_layer-1):\n",
    "            self.layers.append(Layer_unsupervised(layer_dim[i],layer_dim[i + 1]).cuda())\n",
    "            \n",
    "    def predict(self, x):\n",
    "        X_pos = x.clone()\n",
    "        # Initialize an empty list to store the tensors\n",
    "        concatenated_tensors = []\n",
    "        \n",
    "        for  layer in self.layers:\n",
    "            X_pos = layer.forward(X_pos)\n",
    "            concatenated_tensors.append(X_pos)\n",
    "\n",
    "        cached_layers_ouputs = torch.cat(concatenated_tensors, dim=-1)\n",
    "        return cached_layers_ouputs\n",
    "\n",
    "    def train(self, X_pos, X_neg):\n",
    "        pos_orientation = X_pos\n",
    "        neg_orientation = X_neg\n",
    "        for  layer in self.layers:\n",
    "            pos_orientation, neg_orientation = layer.train(pos_orientation, neg_orientation)"
   ]
  },
  {
   "cell_type": "markdown",
   "metadata": {},
   "source": [
    "### train FF network"
   ]
  },
  {
   "cell_type": "code",
   "execution_count": 161,
   "metadata": {},
   "outputs": [
    {
     "name": "stderr",
     "output_type": "stream",
     "text": [
      "100%|██████████| 469/469 [00:22<00:00, 20.59it/s]\n"
     ]
    }
   ],
   "source": [
    "FF_net = Unsupeviesed_FF_Network(3,[784, 500, 500])\n",
    "\n",
    "for (data, targets) in tqdm(train_dataloader):\n",
    "    x_pos = data.clone().cuda()\n",
    "    x_neg = prepare_negative_data(data).cuda()\n",
    "    FF_net.train(x_pos, x_neg)"
   ]
  },
  {
   "cell_type": "code",
   "execution_count": 162,
   "metadata": {},
   "outputs": [
    {
     "data": {
      "text/plain": [
       "[Layer_unsupervised(\n",
       "   in_features=784, out_features=500, bias=True\n",
       "   (relu): ReLU()\n",
       " ),\n",
       " Layer_unsupervised(\n",
       "   in_features=500, out_features=500, bias=True\n",
       "   (relu): ReLU()\n",
       " )]"
      ]
     },
     "execution_count": 162,
     "metadata": {},
     "output_type": "execute_result"
    }
   ],
   "source": [
    "FF_net.layers "
   ]
  },
  {
   "cell_type": "markdown",
   "metadata": {},
   "source": [
    "### train & test foward_forward"
   ]
  },
  {
   "cell_type": "code",
   "execution_count": 163,
   "metadata": {},
   "outputs": [
    {
     "name": "stderr",
     "output_type": "stream",
     "text": [
      "100%|██████████| 469/469 [00:10<00:00, 43.79it/s]\n"
     ]
    }
   ],
   "source": [
    "# train \n",
    "train_cached_layers_ouputs= []\n",
    "train_all_targets = []\n",
    "\n",
    "for (data, targets) in tqdm(train_dataloader):\n",
    "    train_cached_layers_ouputs.append(FF_net.predict(data.cuda()))\n",
    "    train_all_targets.append(targets)\n",
    "    \n",
    "train_cached_layers_ouputs = torch.cat(train_cached_layers_ouputs, dim=0).cuda().detach()\n",
    "train_all_targets = torch.cat(train_all_targets, dim=-1).cuda().detach()"
   ]
  },
  {
   "cell_type": "code",
   "execution_count": 164,
   "metadata": {},
   "outputs": [
    {
     "name": "stderr",
     "output_type": "stream",
     "text": [
      "100%|██████████| 79/79 [00:01<00:00, 44.10it/s]\n"
     ]
    }
   ],
   "source": [
    "# test \n",
    "test_cached_layers_ouputs= []\n",
    "test_all_targets = []\n",
    "\n",
    "for (data, targets) in tqdm(test_dataloader):\n",
    "    test_cached_layers_ouputs.append(FF_net.predict(data.cuda()))\n",
    "    test_all_targets.append(targets)\n",
    "    \n",
    "test_cached_layers_ouputs = torch.cat(test_cached_layers_ouputs, dim=0).cuda().detach()\n",
    "test_all_targets = torch.cat(test_all_targets, dim=-1).cuda().detach()"
   ]
  },
  {
   "cell_type": "code",
   "execution_count": 165,
   "metadata": {},
   "outputs": [],
   "source": [
    "class MyDataset(Dataset):\n",
    "    def __init__(self, X, y):\n",
    "        self.X = X\n",
    "        self.y = y\n",
    "\n",
    "    def __len__(self):\n",
    "        return len(self.X)\n",
    "\n",
    "    def __getitem__(self, idx):\n",
    "        return self.X[idx], self.y[idx]"
   ]
  },
  {
   "cell_type": "code",
   "execution_count": 166,
   "metadata": {},
   "outputs": [],
   "source": [
    "batch_size = 64\n",
    "\n",
    "train_dataset = MyDataset(train_cached_layers_ouputs, train_all_targets)\n",
    "train_dataloader_ = DataLoader(train_dataset, batch_size=batch_size, shuffle=True)\n",
    "\n",
    "test_dataset = MyDataset(test_cached_layers_ouputs, test_all_targets)\n",
    "test_dataloader_ = DataLoader(test_dataset, batch_size=batch_size, shuffle=True)"
   ]
  },
  {
   "cell_type": "markdown",
   "metadata": {},
   "source": [
    "## Define a Dense network to do classification"
   ]
  },
  {
   "cell_type": "code",
   "execution_count": 167,
   "metadata": {},
   "outputs": [],
   "source": [
    "class OneLayerNet(nn.Module):\n",
    "    def __init__(self, input_size, num_classes):\n",
    "        super(OneLayerNet, self).__init__()\n",
    "        self.fc = nn.Linear(input_size, num_classes)\n",
    "\n",
    "    def forward(self, x):\n",
    "        x = self.fc(x)\n",
    "        return torch.softmax(x, dim=1)"
   ]
  },
  {
   "cell_type": "code",
   "execution_count": 168,
   "metadata": {},
   "outputs": [],
   "source": [
    "model = OneLayerNet(1000, 10).cuda()"
   ]
  },
  {
   "cell_type": "markdown",
   "metadata": {},
   "source": [
    "### train dense net "
   ]
  },
  {
   "cell_type": "code",
   "execution_count": 169,
   "metadata": {},
   "outputs": [
    {
     "name": "stderr",
     "output_type": "stream",
     "text": [
      "100%|██████████| 938/938 [00:01<00:00, 610.80it/s]\n",
      "100%|██████████| 938/938 [00:01<00:00, 507.56it/s]\n",
      "100%|██████████| 938/938 [00:01<00:00, 723.86it/s]\n",
      "100%|██████████| 938/938 [00:01<00:00, 710.98it/s]\n",
      "100%|██████████| 938/938 [00:01<00:00, 625.03it/s]\n",
      "100%|██████████| 938/938 [00:01<00:00, 609.12it/s]\n",
      "100%|██████████| 938/938 [00:01<00:00, 631.91it/s]\n",
      "100%|██████████| 938/938 [00:01<00:00, 746.56it/s]\n",
      "100%|██████████| 938/938 [00:01<00:00, 773.34it/s]\n",
      "100%|██████████| 938/938 [00:01<00:00, 775.67it/s]\n",
      "100%|██████████| 938/938 [00:01<00:00, 768.30it/s]\n",
      "100%|██████████| 938/938 [00:01<00:00, 746.48it/s]\n",
      "100%|██████████| 938/938 [00:01<00:00, 766.22it/s]\n",
      "100%|██████████| 938/938 [00:01<00:00, 776.55it/s]\n",
      "100%|██████████| 938/938 [00:01<00:00, 776.73it/s]\n",
      "100%|██████████| 938/938 [00:01<00:00, 752.53it/s]\n",
      "100%|██████████| 938/938 [00:01<00:00, 672.83it/s]\n",
      "100%|██████████| 938/938 [00:01<00:00, 569.60it/s]\n",
      "100%|██████████| 938/938 [00:01<00:00, 680.99it/s]\n",
      "100%|██████████| 938/938 [00:01<00:00, 653.56it/s]\n",
      "100%|██████████| 938/938 [00:01<00:00, 715.97it/s]\n",
      "100%|██████████| 938/938 [00:01<00:00, 650.39it/s]\n",
      "100%|██████████| 938/938 [00:01<00:00, 604.56it/s]\n",
      "100%|██████████| 938/938 [00:01<00:00, 521.14it/s]\n",
      "100%|██████████| 938/938 [00:01<00:00, 471.55it/s]\n",
      "100%|██████████| 938/938 [00:01<00:00, 475.17it/s]\n",
      "100%|██████████| 938/938 [00:01<00:00, 596.74it/s]\n",
      "100%|██████████| 938/938 [00:01<00:00, 722.85it/s]\n",
      "100%|██████████| 938/938 [00:01<00:00, 705.85it/s]\n",
      "100%|██████████| 938/938 [00:01<00:00, 742.07it/s]\n",
      "100%|██████████| 938/938 [00:01<00:00, 738.86it/s]\n",
      "100%|██████████| 938/938 [00:01<00:00, 723.69it/s]\n",
      "100%|██████████| 938/938 [00:01<00:00, 716.86it/s]\n",
      "100%|██████████| 938/938 [00:01<00:00, 740.34it/s]\n",
      "100%|██████████| 938/938 [00:01<00:00, 730.85it/s]\n",
      "100%|██████████| 938/938 [00:01<00:00, 720.53it/s]\n",
      "100%|██████████| 938/938 [00:01<00:00, 733.98it/s]\n",
      "100%|██████████| 938/938 [00:01<00:00, 762.66it/s]\n",
      "100%|██████████| 938/938 [00:01<00:00, 747.53it/s]\n",
      "100%|██████████| 938/938 [00:01<00:00, 749.90it/s]\n",
      "100%|██████████| 938/938 [00:01<00:00, 757.73it/s]\n",
      "100%|██████████| 938/938 [00:01<00:00, 756.65it/s]\n",
      "100%|██████████| 938/938 [00:01<00:00, 739.10it/s]\n",
      "100%|██████████| 938/938 [00:01<00:00, 753.29it/s]\n",
      "100%|██████████| 938/938 [00:01<00:00, 753.02it/s]\n",
      "100%|██████████| 938/938 [00:01<00:00, 753.98it/s]\n",
      "100%|██████████| 938/938 [00:01<00:00, 756.04it/s]\n",
      "100%|██████████| 938/938 [00:01<00:00, 755.82it/s]\n",
      "100%|██████████| 938/938 [00:01<00:00, 759.01it/s]\n",
      "100%|██████████| 938/938 [00:01<00:00, 760.75it/s]\n",
      "100%|██████████| 938/938 [00:01<00:00, 750.10it/s]\n",
      "100%|██████████| 938/938 [00:01<00:00, 742.28it/s]\n",
      "100%|██████████| 938/938 [00:01<00:00, 722.01it/s]\n",
      "100%|██████████| 938/938 [00:01<00:00, 743.94it/s]\n",
      "100%|██████████| 938/938 [00:01<00:00, 716.62it/s]\n",
      "100%|██████████| 938/938 [00:01<00:00, 714.09it/s]\n",
      "100%|██████████| 938/938 [00:01<00:00, 728.18it/s]\n",
      "100%|██████████| 938/938 [00:01<00:00, 706.51it/s]\n",
      "100%|██████████| 938/938 [00:01<00:00, 723.30it/s]\n",
      "100%|██████████| 938/938 [00:01<00:00, 729.64it/s]\n",
      "100%|██████████| 938/938 [00:01<00:00, 724.41it/s]\n",
      "100%|██████████| 938/938 [00:01<00:00, 738.29it/s]\n",
      "100%|██████████| 938/938 [00:01<00:00, 717.19it/s]\n",
      "100%|██████████| 938/938 [00:01<00:00, 717.98it/s]\n",
      "100%|██████████| 938/938 [00:01<00:00, 687.21it/s]\n",
      "100%|██████████| 938/938 [00:01<00:00, 709.15it/s]\n",
      "100%|██████████| 938/938 [00:01<00:00, 720.59it/s]\n",
      "100%|██████████| 938/938 [00:01<00:00, 649.46it/s]\n",
      "100%|██████████| 938/938 [00:01<00:00, 710.99it/s]\n",
      "100%|██████████| 938/938 [00:01<00:00, 625.32it/s]\n",
      "100%|██████████| 938/938 [00:01<00:00, 767.63it/s]\n",
      "100%|██████████| 938/938 [00:01<00:00, 807.24it/s]\n",
      "100%|██████████| 938/938 [00:01<00:00, 808.27it/s]\n",
      "100%|██████████| 938/938 [00:01<00:00, 793.22it/s]\n",
      "100%|██████████| 938/938 [00:01<00:00, 808.49it/s]\n",
      "100%|██████████| 938/938 [00:01<00:00, 815.49it/s]\n",
      "100%|██████████| 938/938 [00:01<00:00, 812.42it/s]\n",
      "100%|██████████| 938/938 [00:01<00:00, 807.72it/s]\n",
      "100%|██████████| 938/938 [00:01<00:00, 810.66it/s]\n",
      "100%|██████████| 938/938 [00:01<00:00, 810.76it/s]\n",
      "100%|██████████| 938/938 [00:01<00:00, 794.29it/s]\n",
      "100%|██████████| 938/938 [00:01<00:00, 816.33it/s]\n",
      "100%|██████████| 938/938 [00:01<00:00, 820.24it/s]\n",
      "100%|██████████| 938/938 [00:01<00:00, 814.99it/s]\n",
      "100%|██████████| 938/938 [00:01<00:00, 820.61it/s]\n",
      "100%|██████████| 938/938 [00:01<00:00, 822.65it/s]\n",
      "100%|██████████| 938/938 [00:01<00:00, 824.88it/s]\n",
      "100%|██████████| 938/938 [00:01<00:00, 805.00it/s]\n",
      "100%|██████████| 938/938 [00:01<00:00, 671.71it/s]\n",
      "100%|██████████| 938/938 [00:01<00:00, 707.86it/s]\n",
      "100%|██████████| 938/938 [00:01<00:00, 802.38it/s]\n",
      "100%|██████████| 938/938 [00:01<00:00, 813.51it/s]\n",
      "100%|██████████| 938/938 [00:01<00:00, 813.23it/s]\n",
      "100%|██████████| 938/938 [00:01<00:00, 752.72it/s]\n",
      "100%|██████████| 938/938 [00:01<00:00, 731.79it/s]\n",
      "100%|██████████| 938/938 [00:01<00:00, 801.82it/s]\n",
      "100%|██████████| 938/938 [00:01<00:00, 818.29it/s]\n",
      "100%|██████████| 938/938 [00:01<00:00, 809.62it/s]\n",
      "100%|██████████| 938/938 [00:01<00:00, 810.32it/s]\n",
      "100%|██████████| 938/938 [00:01<00:00, 809.18it/s]\n"
     ]
    }
   ],
   "source": [
    "criterion = nn.CrossEntropyLoss()\n",
    "optimizer = torch.optim.Adam(model.parameters(), lr=0.01)\n",
    "num_epochs = 100\n",
    "\n",
    "for _ in range(num_epochs):\n",
    "    for (data, targets) in tqdm(train_dataloader_):\n",
    "        data = data.cuda()\n",
    "        targets = targets.cuda()\n",
    "        \n",
    "        optimizer.zero_grad()\n",
    "        outputs = model(data)\n",
    "        loss = criterion(outputs, targets)\n",
    "        # print(loss)\n",
    "        loss.backward()\n",
    "        optimizer.step()\n",
    "        "
   ]
  },
  {
   "cell_type": "markdown",
   "metadata": {},
   "source": [
    "### train & test accurracy"
   ]
  },
  {
   "cell_type": "code",
   "execution_count": 170,
   "metadata": {},
   "outputs": [
    {
     "name": "stderr",
     "output_type": "stream",
     "text": [
      "100%|██████████| 938/938 [00:00<00:00, 1417.61it/s]"
     ]
    },
    {
     "name": "stdout",
     "output_type": "stream",
     "text": [
      "train accuracy:  91.36460554371001\n"
     ]
    },
    {
     "name": "stderr",
     "output_type": "stream",
     "text": [
      "\n"
     ]
    }
   ],
   "source": [
    "with torch.no_grad():\n",
    "    train_accuracy = 0\n",
    "    for (data, targets) in tqdm(train_dataloader_):\n",
    "        data = data.cuda() \n",
    "        targets = targets.cuda()  \n",
    "        train_outputs = model(data)  \n",
    "        _, predicted_train = torch.max(train_outputs, 1) \n",
    "        train_accuracy += (predicted_train == targets).sum().item() / len(targets) \n",
    "\n",
    "\n",
    "print('train accuracy: ',(train_accuracy/len(train_dataloader_))*100)"
   ]
  },
  {
   "cell_type": "code",
   "execution_count": 171,
   "metadata": {},
   "outputs": [
    {
     "name": "stderr",
     "output_type": "stream",
     "text": [
      "100%|██████████| 157/157 [00:00<00:00, 579.81it/s]"
     ]
    },
    {
     "name": "stdout",
     "output_type": "stream",
     "text": [
      "test accuracy:  90.91361464968153\n"
     ]
    },
    {
     "name": "stderr",
     "output_type": "stream",
     "text": [
      "\n"
     ]
    }
   ],
   "source": [
    "with torch.no_grad():\n",
    "    test_accuracy = 0\n",
    "    for (data, targets) in tqdm(test_dataloader_):\n",
    "        data = data.cuda()\n",
    "        targets = targets.cuda()\n",
    "        test_outputs = model(data)\n",
    "        _, predicted_test = torch.max(test_outputs, 1)\n",
    "        test_accuracy += (predicted_test == targets).sum().item() / len(targets)\n",
    "\n",
    "print('test accuracy: ',(test_accuracy/len(test_dataloader_))*100)"
   ]
  }
 ],
 "metadata": {
  "kernelspec": {
   "display_name": "Python 3.9.17 ('alzheimer')",
   "language": "python",
   "name": "python3"
  },
  "language_info": {
   "codemirror_mode": {
    "name": "ipython",
    "version": 3
   },
   "file_extension": ".py",
   "mimetype": "text/x-python",
   "name": "python",
   "nbconvert_exporter": "python",
   "pygments_lexer": "ipython3",
   "version": "3.9.17"
  },
  "orig_nbformat": 4,
  "vscode": {
   "interpreter": {
    "hash": "25b05e4795a1531d3b55a0058bc302082de6595a5bd8f40643b8c42ae422adc8"
   }
  }
 },
 "nbformat": 4,
 "nbformat_minor": 2
}
